{
  "nbformat": 4,
  "nbformat_minor": 0,
  "metadata": {
    "colab": {
      "provenance": []
    },
    "kernelspec": {
      "name": "python3",
      "display_name": "Python 3"
    },
    "language_info": {
      "name": "python"
    }
  },
  "cells": [
    {
      "cell_type": "markdown",
      "source": [
        "# Obective\n",
        "\n",
        "\n",
        "\n",
        "\n"
      ],
      "metadata": {
        "id": "EYy2CTRi6suE"
      }
    },
    {
      "cell_type": "markdown",
      "source": [
        "The repository is a learning exercise to:\n",
        "\n",
        "Apply the fundamental concepts of machine learning from an available \n",
        "\n",
        "dataset\n",
        "Evaluate and interpret my results and justify my interpretation based on observed data set\n",
        " Create notebooks that serve as computational records and document my thought process."
      ],
      "metadata": {
        "id": "p1Cg5aLU64L2"
      }
    },
    {
      "cell_type": "markdown",
      "source": [
        "**Notebook 1: Identifying the problem and Getting data.**\n",
        "Notebook goal:Identify the types of information contained in our data set In this notebook I used Python modules to import external data sets for the purpose of getting to know/familiarize myself with the data to get a good grasp of the data and think about how to handle the data in different ways. "
      ],
      "metadata": {
        "id": "fLc1qlBQ7H7R"
      }
    },
    {
      "cell_type": "markdown",
      "source": [
        "**Notebook 2 Exploratory Data Analysis**\n",
        "Notebook goal:  Explore the variables to assess how they relate to the response variable In this notebook, I am getting familiar with the data using data exploration and visualization techniques using python libraries (Pandas, matplotlib, seaborn. Familiarity with the data is important which will provide useful knowledge for data pre-processing)"
      ],
      "metadata": {
        "id": "Tlo-4vqc7QuH"
      }
    },
    {
      "cell_type": "markdown",
      "source": [
        "**Notebook 3 Pre-Processing the data**\n",
        "Notebook goal:Find the most predictive features of the data and filter it so it will enhance the predictive power of the analytics model. In this notebook I use feature selection to reduce high-dimension data, feature extraction and transformation for dimensionality reduction. This is essential in preparing the data before predictive models are developed."
      ],
      "metadata": {
        "id": "bH1OVqmg7acf"
      }
    },
    {
      "cell_type": "markdown",
      "source": [
        "**Notebook 4 Predictive model using Logistic regression ,Support Vector Machine (svm),Decision tree**\n",
        "Notebook goal: Construct predictive models to predict the diagnosis of a breast tumor. In this notebook, I construct a predictive model using SVM machine learning algorithm to predict the diagnosis of a breast tumor. The diagnosis of a breast tumor is a binary variable (benign or malignant). I also evaluate the model using confusion matrix the receiver operating curves (ROC), which are essential in assessing and interpreting the fitted model."
      ],
      "metadata": {
        "id": "orMAtYhI7foY"
      }
    },
    {
      "cell_type": "markdown",
      "source": [],
      "metadata": {
        "id": "6e3wfZGL6zp6"
      }
    }
  ]
}